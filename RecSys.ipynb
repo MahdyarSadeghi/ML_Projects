{
 "cells": [
  {
   "cell_type": "markdown",
   "id": "a1827963",
   "metadata": {},
   "source": [
    "# Contents"
   ]
  },
  {
   "cell_type": "markdown",
   "id": "156ccc70",
   "metadata": {},
   "source": [
    "* [Import Required Libraries](#Import-Required-Libraries) <br> <br>\n",
    "* [importing Data](#Importing-Data) <br> <br>\n",
    "* [Recommender System](#Recommender-System) <br>\n",
    "\n",
    "    - [Selecting Target User](#Selecting-Target-User) <br>\n",
    "    - [Filtering Dataset](#Filtering-Dataset) <br>\n",
    "    - [Finding Similar Users](#Finding-Similar-Users) <br>\n",
    "    - [Calculating New Rate of Each Movie](#Calculating-New-Rate-of-Each-Movie) <br>\n",
    "    - [Recommending Top 5 Scored Movies](#Recommending-Top-5-Scored-Movies)"
   ]
  },
  {
   "cell_type": "markdown",
   "id": "fbd7500d",
   "metadata": {},
   "source": [
    "## Import Required Libraries"
   ]
  },
  {
   "cell_type": "code",
   "execution_count": 52,
   "id": "626334db",
   "metadata": {},
   "outputs": [],
   "source": [
    "# Loading required Libraries\n",
    "import pandas as pd\n",
    "import numpy as np\n",
    "from scipy import spatial"
   ]
  },
  {
   "cell_type": "markdown",
   "id": "dfa2ec84",
   "metadata": {},
   "source": [
    "## Importing Data"
   ]
  },
  {
   "cell_type": "code",
   "execution_count": 53,
   "id": "8250774b",
   "metadata": {},
   "outputs": [],
   "source": [
    "# Importing Data\n",
    "rating = pd.read_csv('rating.csv')\n",
    "movies = pd.read_csv('movies.csv')"
   ]
  },
  {
   "cell_type": "code",
   "execution_count": 54,
   "id": "6c3b2221",
   "metadata": {},
   "outputs": [],
   "source": [
    "# Selecting Intended Columns\n",
    "rating = rating.iloc[:, :3]"
   ]
  },
  {
   "cell_type": "code",
   "execution_count": 55,
   "id": "70da9cf3",
   "metadata": {},
   "outputs": [
    {
     "data": {
      "text/html": [
       "<div>\n",
       "<style scoped>\n",
       "    .dataframe tbody tr th:only-of-type {\n",
       "        vertical-align: middle;\n",
       "    }\n",
       "\n",
       "    .dataframe tbody tr th {\n",
       "        vertical-align: top;\n",
       "    }\n",
       "\n",
       "    .dataframe thead th {\n",
       "        text-align: right;\n",
       "    }\n",
       "</style>\n",
       "<table border=\"1\" class=\"dataframe\">\n",
       "  <thead>\n",
       "    <tr style=\"text-align: right;\">\n",
       "      <th></th>\n",
       "      <th>user id</th>\n",
       "      <th>item id</th>\n",
       "      <th>rating</th>\n",
       "    </tr>\n",
       "  </thead>\n",
       "  <tbody>\n",
       "    <tr>\n",
       "      <th>0</th>\n",
       "      <td>196</td>\n",
       "      <td>242</td>\n",
       "      <td>3</td>\n",
       "    </tr>\n",
       "    <tr>\n",
       "      <th>1</th>\n",
       "      <td>186</td>\n",
       "      <td>302</td>\n",
       "      <td>3</td>\n",
       "    </tr>\n",
       "    <tr>\n",
       "      <th>2</th>\n",
       "      <td>22</td>\n",
       "      <td>377</td>\n",
       "      <td>1</td>\n",
       "    </tr>\n",
       "    <tr>\n",
       "      <th>3</th>\n",
       "      <td>244</td>\n",
       "      <td>51</td>\n",
       "      <td>2</td>\n",
       "    </tr>\n",
       "    <tr>\n",
       "      <th>4</th>\n",
       "      <td>166</td>\n",
       "      <td>346</td>\n",
       "      <td>1</td>\n",
       "    </tr>\n",
       "  </tbody>\n",
       "</table>\n",
       "</div>"
      ],
      "text/plain": [
       "   user id  item id   rating\n",
       "0      196      242        3\n",
       "1      186      302        3\n",
       "2       22      377        1\n",
       "3      244       51        2\n",
       "4      166      346        1"
      ]
     },
     "execution_count": 55,
     "metadata": {},
     "output_type": "execute_result"
    }
   ],
   "source": [
    "# Looking at Top 5 rows of rating dataset\n",
    "rating.head()"
   ]
  },
  {
   "cell_type": "code",
   "execution_count": 56,
   "id": "cfbf0b66",
   "metadata": {},
   "outputs": [
    {
     "data": {
      "text/html": [
       "<div>\n",
       "<style scoped>\n",
       "    .dataframe tbody tr th:only-of-type {\n",
       "        vertical-align: middle;\n",
       "    }\n",
       "\n",
       "    .dataframe tbody tr th {\n",
       "        vertical-align: top;\n",
       "    }\n",
       "\n",
       "    .dataframe thead th {\n",
       "        text-align: right;\n",
       "    }\n",
       "</style>\n",
       "<table border=\"1\" class=\"dataframe\">\n",
       "  <thead>\n",
       "    <tr style=\"text-align: right;\">\n",
       "      <th></th>\n",
       "      <th>movie id</th>\n",
       "      <th>movie name</th>\n",
       "    </tr>\n",
       "  </thead>\n",
       "  <tbody>\n",
       "    <tr>\n",
       "      <th>0</th>\n",
       "      <td>1</td>\n",
       "      <td>Toy Story (1995)</td>\n",
       "    </tr>\n",
       "    <tr>\n",
       "      <th>1</th>\n",
       "      <td>2</td>\n",
       "      <td>GoldenEye (1995)</td>\n",
       "    </tr>\n",
       "    <tr>\n",
       "      <th>2</th>\n",
       "      <td>3</td>\n",
       "      <td>Four Rooms (1995)</td>\n",
       "    </tr>\n",
       "    <tr>\n",
       "      <th>3</th>\n",
       "      <td>4</td>\n",
       "      <td>Get Shorty (1995)</td>\n",
       "    </tr>\n",
       "    <tr>\n",
       "      <th>4</th>\n",
       "      <td>5</td>\n",
       "      <td>Copycat (1995)</td>\n",
       "    </tr>\n",
       "  </tbody>\n",
       "</table>\n",
       "</div>"
      ],
      "text/plain": [
       "   movie id         movie name\n",
       "0         1   Toy Story (1995)\n",
       "1         2   GoldenEye (1995)\n",
       "2         3  Four Rooms (1995)\n",
       "3         4  Get Shorty (1995)\n",
       "4         5     Copycat (1995)"
      ]
     },
     "execution_count": 56,
     "metadata": {},
     "output_type": "execute_result"
    }
   ],
   "source": [
    "# Looking at Top 5 rows of moving dataset\n",
    "movies.head()"
   ]
  },
  {
   "cell_type": "markdown",
   "id": "3b6b6e7c",
   "metadata": {},
   "source": [
    "## Recommender System"
   ]
  },
  {
   "cell_type": "markdown",
   "id": "ca45c183",
   "metadata": {},
   "source": [
    "- ### Selecting Target User"
   ]
  },
  {
   "cell_type": "code",
   "execution_count": 57,
   "id": "9cbe6796",
   "metadata": {},
   "outputs": [],
   "source": [
    "# Selecting Target User Randomly\n",
    "selected_user = rating['item id'].sample(1).iloc[0]\n",
    "selected_data = rating[rating['user id'] == selected_user]"
   ]
  },
  {
   "cell_type": "markdown",
   "id": "1ad80bca",
   "metadata": {},
   "source": [
    "- ### Filtering Dataset"
   ]
  },
  {
   "cell_type": "code",
   "execution_count": 58,
   "id": "dd32d440",
   "metadata": {},
   "outputs": [],
   "source": [
    "# Droping Selected User's Data from our Rating Data -> Because we want to find simmilar user by using this Rating dataset.\n",
    "rating = rating[rating['user id'] != selected_user]\n",
    "# Fiding users who has watched one of selected user's movies.\n",
    "rating = rating[rating['item id'].isin(selected_data['item id'].tolist())]"
   ]
  },
  {
   "cell_type": "code",
   "execution_count": 59,
   "id": "f5ef00ae",
   "metadata": {},
   "outputs": [],
   "source": [
    "# Grouping Rating data using user ids \n",
    "group_data = rating.groupby('user id')"
   ]
  },
  {
   "cell_type": "markdown",
   "id": "ab80dd8d",
   "metadata": {},
   "source": [
    "- ### Finding Similar Users"
   ]
  },
  {
   "cell_type": "code",
   "execution_count": 60,
   "id": "11727f1c",
   "metadata": {},
   "outputs": [],
   "source": [
    "# Creating an empty dictinary to store similarity rate of each user.\n",
    "dist = {}\n",
    "# Finding Degree of Similarity by calculating similarity rate\n",
    "for user_id, data in group_data:\n",
    "    \n",
    "    data = data.sort_values('item id')\n",
    "    selected_data = selected_data.sort_values('item id')\n",
    "    \n",
    "    temp_data = selected_data[selected_data['item id'].isin(data['item id'].tolist())]\n",
    "    \n",
    "    x = temp_data[' rating']\n",
    "    y = data[' rating']\n",
    "    \n",
    "    cosine = spatial.distance.cosine(x, y)\n",
    "    \n",
    "    dist[user_id] = cosine"
   ]
  },
  {
   "cell_type": "code",
   "execution_count": 61,
   "id": "701cab8f",
   "metadata": {},
   "outputs": [],
   "source": [
    "# Storing Similarity Rate in similarityRate column in rating dataset\n",
    "rating['similarityRate'] = rating['user id'].apply(lambda x: dist[x])"
   ]
  },
  {
   "cell_type": "markdown",
   "id": "25b6727a",
   "metadata": {},
   "source": [
    "- ### Calculating New Rate of Each Movie"
   ]
  },
  {
   "cell_type": "code",
   "execution_count": 62,
   "id": "4ad33f70",
   "metadata": {},
   "outputs": [],
   "source": [
    "# Multiplying Similarity Rate of each user in Rate of each movies the user watched\n",
    "rating['simXrate'] = rating['similarityRate']*rating[' rating']"
   ]
  },
  {
   "cell_type": "code",
   "execution_count": 63,
   "id": "18534346",
   "metadata": {},
   "outputs": [],
   "source": [
    "# Calculating Weigthed Average to Predict the rate of Target User to each movie:\n",
    "\n",
    "## Step 1: Grouping data by item id and Sum similarityRate and simXrate columns of the dataset\n",
    "recommendation = rating.groupby('item id').sum(['similarityRate', 'simXrate']).reset_index()\n",
    "## Step 2: Deviding Sum of simXrate by Sum of SimilarityRate\n",
    "recommendation['Predicted_Rate'] = recommendation['simXrate'] / recommendation['similarityRate']"
   ]
  },
  {
   "cell_type": "markdown",
   "id": "55963356",
   "metadata": {},
   "source": [
    "- ### Recommending Top 5 Scored Movies"
   ]
  },
  {
   "cell_type": "code",
   "execution_count": 64,
   "id": "9af8d3fa",
   "metadata": {},
   "outputs": [],
   "source": [
    "# Selecting Top 5 movie ids based on calculated rate\n",
    "suggestions_ids = recommendation.sort_values('Predicted_Rate', ascending=False).nlargest(5, 'Predicted_Rate')['item id']"
   ]
  },
  {
   "cell_type": "code",
   "execution_count": 65,
   "id": "fa247cd8",
   "metadata": {},
   "outputs": [
    {
     "data": {
      "text/html": [
       "<div>\n",
       "<style scoped>\n",
       "    .dataframe tbody tr th:only-of-type {\n",
       "        vertical-align: middle;\n",
       "    }\n",
       "\n",
       "    .dataframe tbody tr th {\n",
       "        vertical-align: top;\n",
       "    }\n",
       "\n",
       "    .dataframe thead th {\n",
       "        text-align: right;\n",
       "    }\n",
       "</style>\n",
       "<table border=\"1\" class=\"dataframe\">\n",
       "  <thead>\n",
       "    <tr style=\"text-align: right;\">\n",
       "      <th></th>\n",
       "      <th>movie id</th>\n",
       "      <th>movie name</th>\n",
       "    </tr>\n",
       "  </thead>\n",
       "  <tbody>\n",
       "    <tr>\n",
       "      <th>11</th>\n",
       "      <td>12</td>\n",
       "      <td>Usual Suspects, The (1995)</td>\n",
       "    </tr>\n",
       "    <tr>\n",
       "      <th>49</th>\n",
       "      <td>50</td>\n",
       "      <td>Star Wars (1977)</td>\n",
       "    </tr>\n",
       "    <tr>\n",
       "      <th>113</th>\n",
       "      <td>114</td>\n",
       "      <td>Wallace &amp; Gromit: The Best of Aardman Animatio...</td>\n",
       "    </tr>\n",
       "    <tr>\n",
       "      <th>479</th>\n",
       "      <td>480</td>\n",
       "      <td>North by Northwest (1959)</td>\n",
       "    </tr>\n",
       "    <tr>\n",
       "      <th>602</th>\n",
       "      <td>603</td>\n",
       "      <td>Rear Window (1954)</td>\n",
       "    </tr>\n",
       "  </tbody>\n",
       "</table>\n",
       "</div>"
      ],
      "text/plain": [
       "     movie id                                         movie name\n",
       "11         12                         Usual Suspects, The (1995)\n",
       "49         50                                   Star Wars (1977)\n",
       "113       114  Wallace & Gromit: The Best of Aardman Animatio...\n",
       "479       480                          North by Northwest (1959)\n",
       "602       603                                 Rear Window (1954)"
      ]
     },
     "execution_count": 65,
     "metadata": {},
     "output_type": "execute_result"
    }
   ],
   "source": [
    "# Showing suggested Movies\n",
    "movies[movies['movie id'].isin(suggestions_ids)]"
   ]
  }
 ],
 "metadata": {
  "kernelspec": {
   "display_name": "Python 3 (ipykernel)",
   "language": "python",
   "name": "python3"
  },
  "language_info": {
   "codemirror_mode": {
    "name": "ipython",
    "version": 3
   },
   "file_extension": ".py",
   "mimetype": "text/x-python",
   "name": "python",
   "nbconvert_exporter": "python",
   "pygments_lexer": "ipython3",
   "version": "3.9.10"
  },
  "vscode": {
   "interpreter": {
    "hash": "4cff3abf1678755e0069fd79299a535fe1940bcd71a6b01d9f4386710b2b163f"
   }
  }
 },
 "nbformat": 4,
 "nbformat_minor": 5
}
